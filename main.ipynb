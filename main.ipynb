{
 "cells": [
  {
   "cell_type": "markdown",
   "metadata": {},
   "source": [
    "# Predicting the Next Hit Movie"
   ]
  },
  {
   "cell_type": "markdown",
   "metadata": {},
   "source": [
    "**Objective**: Create a machine learning model to predict the next AAA movie"
   ]
  },
  {
   "cell_type": "markdown",
   "metadata": {},
   "source": [
    "### Checking the data"
   ]
  },
  {
   "cell_type": "code",
   "execution_count": 6,
   "metadata": {},
   "outputs": [
    {
     "name": "stderr",
     "output_type": "stream",
     "text": [
      "C:\\Users\\Ayisha\\AppData\\Local\\Temp\\ipykernel_25612\\2967883335.py:20: DtypeWarning: Columns (4) have mixed types. Specify dtype option on import or set low_memory=False.\n",
      "  title_basics = pd.read_csv(files['title_basics'], sep='\\t')\n"
     ]
    }
   ],
   "source": [
    "import pandas as pd\n",
    "import os\n",
    "\n",
    "# Define the paths to your data files\n",
    "data_folder = 'Data'\n",
    "\n",
    "files = {\n",
    "    'name_basics': os.path.join(data_folder, 'name.basics.tsv/name.basics.tsv'),\n",
    "    'title_akas': os.path.join(data_folder, 'title.akas.tsv/title.akas.tsv'),\n",
    "    'title_basics': os.path.join(data_folder, 'title.basics.tsv/title.basics.tsv'),\n",
    "    'title_crew': os.path.join(data_folder, 'title.crew.tsv/title.crew.tsv'),\n",
    "    'title_episode': os.path.join(data_folder, 'title.episode.tsv/title.episode.tsv'),\n",
    "    'title_principals': os.path.join(data_folder, 'title.principals.tsv/title.principals.tsv'),\n",
    "    'title_ratings': os.path.join(data_folder, 'title.ratings.tsv/title.ratings.tsv')\n",
    "}\n",
    "\n",
    "# Load the data into pandas dataframes\n",
    "name_basics = pd.read_csv(files['name_basics'], sep='\\t')\n",
    "title_akas = pd.read_csv(files['title_akas'], sep='\\t')\n",
    "title_basics = pd.read_csv(files['title_basics'], sep='\\t')\n",
    "title_crew = pd.read_csv(files['title_crew'], sep='\\t')\n",
    "title_episode = pd.read_csv(files['title_episode'], sep='\\t')\n",
    "title_principals = pd.read_csv(files['title_principals'], sep='\\t')\n",
    "title_ratings = pd.read_csv(files['title_ratings'], sep='\\t')"
   ]
  },
  {
   "cell_type": "code",
   "execution_count": null,
   "metadata": {},
   "outputs": [],
   "source": []
  }
 ],
 "metadata": {
  "kernelspec": {
   "display_name": "base",
   "language": "python",
   "name": "python3"
  },
  "language_info": {
   "codemirror_mode": {
    "name": "ipython",
    "version": 3
   },
   "file_extension": ".py",
   "mimetype": "text/x-python",
   "name": "python",
   "nbconvert_exporter": "python",
   "pygments_lexer": "ipython3",
   "version": "3.11.5"
  }
 },
 "nbformat": 4,
 "nbformat_minor": 2
}
